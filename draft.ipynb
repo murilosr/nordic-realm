{
 "cells": [
  {
   "cell_type": "code",
   "execution_count": null,
   "metadata": {},
   "outputs": [],
   "source": [
    "from importlib import import_module\n",
    "from pathlib import Path"
   ]
  },
  {
   "cell_type": "code",
   "execution_count": 10,
   "metadata": {},
   "outputs": [
    {
     "name": "stdout",
     "output_type": "stream",
     "text": [
      "the default one\n",
      "this is x from x1 this is y from x1 this is x from x2 this is y from x2\n",
      "{'x': typing.Annotated[str, Depends(<lambda>)], 'y': <class 'str'>}\n",
      "{}\n"
     ]
    }
   ],
   "source": [
    "from typing_extensions import Annotated\n",
    "\n",
    "from fastapi.params import Depends\n",
    "\n",
    "\n",
    "class X:\n",
    "    x : Annotated[str, Depends(lambda: \"x\")] = \"the default one\"\n",
    "    y : str\n",
    "    \n",
    "    def __str__(self):\n",
    "        return f\"{self.x} {self.y}\"\n",
    "    \n",
    "    def __repr__(self):\n",
    "        return str(self)\n",
    "\n",
    "x1 = X()\n",
    "x1.x = \"this is x from x1\"\n",
    "x1.y = \"this is y from x1\"\n",
    "\n",
    "x2 = X()\n",
    "x2.x = \"this is x from x2\"\n",
    "x2.y = \"this is y from x2\"\n",
    "\n",
    "print(getattr(X, \"x\", None))\n",
    "\n",
    "print(x1, x2)\n",
    "print(X.__annotations__)\n",
    "\n",
    "for _item in X.__annotations__[\"x\"].__metadata__:\n",
    "    if(isinstance(_item, Depends)):\n",
    "        print(_item.dependency.__annotations__)"
   ]
  },
  {
   "cell_type": "code",
   "execution_count": null,
   "metadata": {},
   "outputs": [],
   "source": [
    "from nordic_realm.di.component_store import ComponentStore\n",
    "component_store = ComponentStore()\n",
    "\n",
    "def scan_components(package : str):\n",
    "    _root_abspath = Path(\".\").joinpath(package).absolute()\n",
    "    for _file in _root_abspath.rglob(\"**/*.py\"):\n",
    "        _module_name = f\"{package}.{str(_file.relative_to(_root_abspath)).replace('/','.').replace('.py', '')}\"\n",
    "        if _module_name.endswith(\"__init__\"):\n",
    "            _module_name = _module_name.replace(\".__init__\", \"\")\n",
    "        # _module = __import__(_module_name, _g, _l, [\"*\"])\n",
    "        _module = import_module(_module_name)\n",
    "        for _i in _module.__dict__.values():\n",
    "            if getattr(_i, \"_NR_component\", False) and isinstance(_i, type):\n",
    "                component_store.register(_i)\n",
    "\n",
    "scan_components(\"app\")\n",
    "print(component_store.get())\n"
   ]
  },
  {
   "cell_type": "code",
   "execution_count": 19,
   "metadata": {},
   "outputs": [
    {
     "name": "stdout",
     "output_type": "stream",
     "text": [
      "(<class '__main__.B'>,)\n",
      "(Gt(gt=10),)\n"
     ]
    },
    {
     "data": {
      "text/plain": [
       "['__args__',\n",
       " '__call__',\n",
       " '__class__',\n",
       " '__delattr__',\n",
       " '__dict__',\n",
       " '__dir__',\n",
       " '__doc__',\n",
       " '__eq__',\n",
       " '__format__',\n",
       " '__ge__',\n",
       " '__getattr__',\n",
       " '__getattribute__',\n",
       " '__getitem__',\n",
       " '__getstate__',\n",
       " '__gt__',\n",
       " '__hash__',\n",
       " '__init__',\n",
       " '__init_subclass__',\n",
       " '__instancecheck__',\n",
       " '__iter__',\n",
       " '__le__',\n",
       " '__lt__',\n",
       " '__metadata__',\n",
       " '__module__',\n",
       " '__mro_entries__',\n",
       " '__ne__',\n",
       " '__new__',\n",
       " '__or__',\n",
       " '__origin__',\n",
       " '__parameters__',\n",
       " '__reduce__',\n",
       " '__reduce_ex__',\n",
       " '__repr__',\n",
       " '__ror__',\n",
       " '__setattr__',\n",
       " '__sizeof__',\n",
       " '__slots__',\n",
       " '__str__',\n",
       " '__subclasscheck__',\n",
       " '__subclasshook__',\n",
       " '__weakref__',\n",
       " '_determine_new_args',\n",
       " '_inst',\n",
       " '_make_substitution',\n",
       " '_name',\n",
       " '_paramspec_tvars',\n",
       " 'copy_with']"
      ]
     },
     "execution_count": 19,
     "metadata": {},
     "output_type": "execute_result"
    }
   ],
   "source": [
    "\n",
    "from typing import Annotated\n",
    "from annotated_types import Gt\n",
    "\n",
    "class A:\n",
    "    pass\n",
    "\n",
    "class B:\n",
    "    pass\n",
    "\n",
    "class Y:\n",
    "    a : A\n",
    "    b : Annotated[B, Gt(10)]\n",
    "    \n",
    "print(Y.__annotations__[\"b\"].__args__)\n",
    "print(Y.__annotations__[\"b\"].__metadata__)\n",
    "dir(Y.__annotations__[\"b\"])"
   ]
  },
  {
   "cell_type": "code",
   "execution_count": 21,
   "metadata": {},
   "outputs": [
    {
     "name": "stdout",
     "output_type": "stream",
     "text": [
      "10\n"
     ]
    }
   ],
   "source": [
    "from typing import Annotated\n",
    "from annotated_types import Gt\n",
    "\n",
    "class A:\n",
    "    x : int\n",
    "\n",
    "class B:\n",
    "    pass\n",
    "\n",
    "class Y:\n",
    "    a : A\n",
    "    b : Annotated[B, Gt(10)]\n",
    "    \n",
    "A.x = 10\n",
    "a = A()\n",
    "print(a.x)"
   ]
  },
  {
   "cell_type": "code",
   "execution_count": null,
   "metadata": {},
   "outputs": [],
   "source": []
  }
 ],
 "metadata": {
  "kernelspec": {
   "display_name": "venv",
   "language": "python",
   "name": "python3"
  },
  "language_info": {
   "codemirror_mode": {
    "name": "ipython",
    "version": 3
   },
   "file_extension": ".py",
   "mimetype": "text/x-python",
   "name": "python",
   "nbconvert_exporter": "python",
   "pygments_lexer": "ipython3",
   "version": "3.11.6"
  }
 },
 "nbformat": 4,
 "nbformat_minor": 2
}
